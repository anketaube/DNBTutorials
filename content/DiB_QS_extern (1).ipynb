{
 "cells": [
  {
   "cell_type": "code",
   "execution_count": 1,
   "id": "e40a8a25-dcff-4d0c-993c-7fc71400a905",
   "metadata": {
    "tags": []
   },
   "outputs": [
    {
     "name": "stdout",
     "output_type": "stream",
     "text": [
      "Erfolgreicher Aufruf der URL https://d-nb.info/1278869719/34.\n",
      "Erfolgreicher Aufruf der URL https://d-nb.info/1284464601/34.\n",
      "Erfolgreicher Aufruf der URL https://d-nb.info/870073648/04.\n",
      "Erfolgreicher Aufruf der URL http://deposit.dnb.de/cgi-bin/dokserv?id=4c61276ea2ef49db8ea03288a92067fe&prov=M&dok_var=1&dok_ext=htm.\n",
      "Erfolgreicher Aufruf der URL https://portal.dnb.de/bookviewer/view/1038708524#page/1/mode/1up.\n",
      "Erfolgreicher Aufruf der URL https://portal.dnb.de/audioplayer/do/show/1112041427.\n",
      "Erfolgreicher Aufruf der URL https://webarchiv.dnb.de/?AIC=468117a4-03fe-ec11-8ee6-0050568c5d1b.\n",
      "Erfolgreicher Aufruf der URL https://services.dnb.de/oai/repository?verb=Identify.\n",
      "Erfolgreicher Aufruf der URL https://services.dnb.de/oai2/repository?verb=ListRecords&metadataPrefix=mets&set=dnb:digitalisate-oa:projekt29.\n",
      "Erfolgreicher Aufruf der URL https://services.dnb.de/sru/dnb?version=1.1&operation=searchRetrieve&query=cod=a004&recordSchema=MARC21-xml&maximumRecords=100.\n",
      "Erfolgreicher Aufruf der URL https://services.dnb.de/sru/dnb?operation=explain&version=1.1.\n",
      "Erfolgreicher Aufruf der URL https://services.dnb.de/sru/authorities?version=1.1&operation=searchRetrieve&query=PER%3DSchneider*https://services.dnb.de/sru/cbs?version=1.1&operation=searchRetrieve&query=PER%3DSchneider*.\n",
      "Erfolgreicher Aufruf der URL https://services.dnb.de/sru/dnb?version=1.1&operation=searchRetrieve&query=PER%3DSchneider*.\n",
      "Erfolgreicher Aufruf der URL https://services.dnb.de/sru/zdb?version=1.1&operation=searchRetrieve&query=PER%3DSchneider*.\n",
      "Erfolgreicher Aufruf der URL https://services.dnb.de/sru/authorities?version=1.1&operation=searchRetrieve&query=PER%3DSchneider*.\n",
      "Erfolgreicher Aufruf der URL https://www.dnb.de/dnblab.\n",
      "Erfolgreicher Aufruf der URL https://mybinder.org/v2/gh/deutsche-nationalbibliothek/dnblab/HEAD.\n",
      "Erfolgreicher Aufruf der URL https://share.streamlit.io/deutsche-nationalbibliothek/dnblab/main/DNB_Testabfrage.py.\n",
      "Erfolgreicher Aufruf der URL https://portal.dnb.de/opac/simpleSearch?query=cod%3Dd005&cqlMode=true.\n",
      "Erfolgreicher Aufruf der URL https://nbn-resolving.org.\n",
      "Erfolgreicher Aufruf der URL https://nbn-resolving.org/institutions.\n",
      "Erfolgreicher Aufruf der URL https://nbn-resolving.org/urn:nbn:de:gbv:547-200700768.\n",
      "Erfolgreicher Aufruf der URL https://nbn-resolving.org/urn:nbn:de:bvb:12-bsb00113387-4.\n"
     ]
    }
   ],
   "source": [
    "import requests\n",
    "\n",
    "# Liste der URLs, die aufgerufen werden sollen\n",
    "urls = [\n",
    "    'https://d-nb.info/1278869719/34',\n",
    "    'https://d-nb.info/1284464601/34',\n",
    "    'https://d-nb.info/870073648/04',\n",
    "    'http://deposit.dnb.de/cgi-bin/dokserv?id=4c61276ea2ef49db8ea03288a92067fe&prov=M&dok_var=1&dok_ext=htm',\n",
    "    'https://portal.dnb.de/bookviewer/view/1038708524#page/1/mode/1up',\n",
    "    'https://portal.dnb.de/audioplayer/do/show/1112041427',\n",
    "    'https://webarchiv.dnb.de/?AIC=468117a4-03fe-ec11-8ee6-0050568c5d1b',\n",
    "    'https://services.dnb.de/oai/repository?verb=Identify', \n",
    "    'https://services.dnb.de/oai2/repository?verb=ListRecords&metadataPrefix=mets&set=dnb:digitalisate-oa:projekt29',\n",
    "    'https://services.dnb.de/sru/dnb?version=1.1&operation=searchRetrieve&query=cod=a004&recordSchema=MARC21-xml&maximumRecords=100',\n",
    "    'https://services.dnb.de/sru/dnb?operation=explain&version=1.1',\n",
    "    'https://services.dnb.de/sru/authorities?version=1.1&operation=searchRetrieve&query=PER%3DSchneider*https://services.dnb.de/sru/cbs?version=1.1&operation=searchRetrieve&query=PER%3DSchneider*',\n",
    "    'https://services.dnb.de/sru/dnb?version=1.1&operation=searchRetrieve&query=PER%3DSchneider*',\n",
    "    'https://services.dnb.de/sru/zdb?version=1.1&operation=searchRetrieve&query=PER%3DSchneider*', \n",
    "    'https://services.dnb.de/sru/authorities?version=1.1&operation=searchRetrieve&query=PER%3DSchneider*',\n",
    "    'https://www.dnb.de/dnblab',\n",
    "    'https://mybinder.org/v2/gh/deutsche-nationalbibliothek/dnblab/HEAD',\n",
    "    'https://share.streamlit.io/deutsche-nationalbibliothek/dnblab/main/DNB_Testabfrage.py',\n",
    "    'https://portal.dnb.de/opac/simpleSearch?query=cod%3Dd005&cqlMode=true',\n",
    "    'https://nbn-resolving.org',\n",
    "    'https://nbn-resolving.org/institutions',\n",
    "    'https://nbn-resolving.org/urn:nbn:de:gbv:547-200700768',\n",
    "    'https://nbn-resolving.org/urn:nbn:de:bvb:12-bsb00113387-4'\n",
    "]\n",
    "\n",
    "# Durchlaufen der URLs und Senden der GET-Anfragen\n",
    "for url in urls:\n",
    "    response = requests.get(url)\n",
    "    \n",
    "    # Ausgabe des Statuscodes und entsprechende Meldung\n",
    "    if response.status_code == 200:\n",
    "        print(f'Erfolgreicher Aufruf der URL {url}.')\n",
    "    else:\n",
    "        print(f'Fehler beim Aufruf der URL {url}. Statuscode: {response.status_code}')\n"
   ]
  },
  {
   "cell_type": "code",
   "execution_count": null,
   "id": "611ab27a-a449-43c5-9566-c61ef4ebb7e9",
   "metadata": {},
   "outputs": [],
   "source": []
  }
 ],
 "metadata": {
  "kernelspec": {
   "display_name": "Python 3 (ipykernel)",
   "language": "python",
   "name": "python3"
  },
  "language_info": {
   "codemirror_mode": {
    "name": "ipython",
    "version": 3
   },
   "file_extension": ".py",
   "mimetype": "text/x-python",
   "name": "python",
   "nbconvert_exporter": "python",
   "pygments_lexer": "ipython3",
   "version": "3.10.11"
  }
 },
 "nbformat": 4,
 "nbformat_minor": 5
}
